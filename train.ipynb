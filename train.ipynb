{
 "cells": [
  {
   "cell_type": "code",
   "execution_count": 10,
   "metadata": {},
   "outputs": [],
   "source": [
    "import numpy as np\n",
    "from loguru import logger\n",
    "from src.snake import Snake\n",
    "from src.agent import DDQNAgent\n",
    "from src.networks import SimpleCNN\n",
    "from tinygrad.device import Device\n",
    "Device.DEFAULT = \"CUDA\""
   ]
  },
  {
   "cell_type": "code",
   "execution_count": null,
   "metadata": {},
   "outputs": [],
   "source": [
    "env = Snake(grid_size=11, snake_size=3)\n",
    "q_eval = SimpleCNN((11, 11))\n",
    "q_target = SimpleCNN((11, 11))\n",
    "\n",
    "agent = DDQNAgent(q_eval, q_target)\n",
    "best_score = 0\n",
    "best_score_states = []"
   ]
  },
  {
   "cell_type": "code",
   "execution_count": null,
   "metadata": {},
   "outputs": [],
   "source": [
    "%%capture\n",
    "\n",
    "all_scores = []\n",
    "\n",
    "for i in range(1_000_000):\n",
    "    state, _ = env.reset()\n",
    "    game_states = [state]\n",
    "    total_reward = 0\n",
    "        \n",
    "    while True:\n",
    "        action = agent.choose_action(state)\n",
    "        next_state, reward, terminated, truncated, _ = env.step(action)\n",
    "        agent.store_experience(state, action, reward, next_state, terminated)\n",
    "        \n",
    "        game_states.append(next_state)\n",
    "        actions.append(action)\n",
    "        rewards.append(reward)\n",
    "        \n",
    "        state = next_state\n",
    "        total_reward += reward\n",
    "\n",
    "        if terminated or truncated:\n",
    "            break\n",
    "    \n",
    "    if env.score > best_score:\n",
    "        best_score = env.score\n",
    "        best_score_states = game_states\n",
    "        logger.info(f'New best score: {best_score}')\n",
    "        env.render_states(best_score_states, f'snake-videos/snake-{best_score}.gif')\n",
    "    \n",
    "    logger.info(f\"Epoch: {i}, Score: {env.score}, Steps: {env.steps_taken}, Reward: {total_reward}\")"
   ]
  }
 ],
 "metadata": {
  "kernelspec": {
   "display_name": "venv",
   "language": "python",
   "name": "python3"
  },
  "language_info": {
   "codemirror_mode": {
    "name": "ipython",
    "version": 3
   },
   "file_extension": ".py",
   "mimetype": "text/x-python",
   "name": "python",
   "nbconvert_exporter": "python",
   "pygments_lexer": "ipython3",
   "version": "3.10.13"
  }
 },
 "nbformat": 4,
 "nbformat_minor": 2
}
